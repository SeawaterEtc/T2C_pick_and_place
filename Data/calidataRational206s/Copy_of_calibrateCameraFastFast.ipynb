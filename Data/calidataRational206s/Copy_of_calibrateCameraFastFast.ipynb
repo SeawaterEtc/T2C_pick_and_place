{
  "cells": [
    {
      "cell_type": "code",
      "execution_count": null,
      "metadata": {
        "id": "TNcfOh4W269X"
      },
      "outputs": [],
      "source": [
        "# the drive\n",
        "\n",
        "Use cv.CALIB_USE_INTRINSIC_GUESS if you already have an initial guess for cameraMatrix.\n",
        "Use cv.CALIB_FIX_ASPECT_RATIO if you know the aspect ratio.\n",
        "Use cv.CALIB_FIX_K3 to ignore higher-order distortion parameters.\n",
        "Use cv.CALIB_RATIONAL_MODEL only if absolutely necessary (it's computationally expensive).\n",
        "                                                          \n",
        "\n",
        "https://drive.google.com/drive/folders/1flAP1RIpKx5HpPp9bP6uMEHpe9Jh4J9i?usp=sharing"
      ]
    },
    {
      "cell_type": "code",
      "execution_count": 1,
      "metadata": {
        "colab": {
          "base_uri": "https://localhost:8080/"
        },
        "id": "X5LwKJfR8Hq1",
        "outputId": "ef9094c5-8357-41ef-d060-d9d240446580"
      },
      "outputs": [
        {
          "name": "stdout",
          "output_type": "stream",
          "text": [
            "False\n"
          ]
        }
      ],
      "source": [
        "import torch\n",
        "print(torch.cuda.is_available())\n"
      ]
    },
    {
      "cell_type": "code",
      "execution_count": null,
      "metadata": {
        "colab": {
          "base_uri": "https://localhost:8080/"
        },
        "id": "5er5a0JA8ILd",
        "outputId": "74356917-7cf0-4e30-e619-08e3b7c83e53"
      },
      "outputs": [
        {
          "name": "stdout",
          "output_type": "stream",
          "text": [
            "Found existing installation: opencv-python 4.11.0.86\n",
            "Uninstalling opencv-python-4.11.0.86:\n",
            "  Successfully uninstalled opencv-python-4.11.0.86\n",
            "Found existing installation: opencv-contrib-python 4.11.0.86\n",
            "Uninstalling opencv-contrib-python-4.11.0.86:\n",
            "  Successfully uninstalled opencv-contrib-python-4.11.0.86\n",
            "Collecting opencv-contrib-python-headless\n",
            "  Downloading opencv_contrib_python_headless-4.11.0.86-cp37-abi3-manylinux_2_17_x86_64.manylinux2014_x86_64.whl.metadata (20 kB)\n",
            "Requirement already satisfied: numpy>=1.21.2 in /usr/local/lib/python3.11/dist-packages (from opencv-contrib-python-headless) (1.26.4)\n",
            "Downloading opencv_contrib_python_headless-4.11.0.86-cp37-abi3-manylinux_2_17_x86_64.manylinux2014_x86_64.whl (56.1 MB)\n",
            "\u001b[2K   \u001b[90m━━━━━━━━━━━━━━━━━━━━━━━━━━━━━━━━━━━━━━━━\u001b[0m \u001b[32m56.1/56.1 MB\u001b[0m \u001b[31m8.4 MB/s\u001b[0m eta \u001b[36m0:00:00\u001b[0m\n",
            "\u001b[?25hInstalling collected packages: opencv-contrib-python-headless\n",
            "Successfully installed opencv-contrib-python-headless-4.11.0.86\n"
          ]
        }
      ],
      "source": [
        "%pip uninstall opencv-python opencv-contrib-python -y\n",
        "%pip install opencv-contrib-python-headless\n"
      ]
    },
    {
      "cell_type": "code",
      "execution_count": 2,
      "metadata": {
        "colab": {
          "base_uri": "https://localhost:8080/"
        },
        "id": "D95L7FI-8Me2",
        "outputId": "d03d4d30-6f81-4d54-a24d-fa446203a2a0"
      },
      "outputs": [
        {
          "name": "stdout",
          "output_type": "stream",
          "text": [
            "\n",
            "General configuration for OpenCV 4.7.0 =====================================\n",
            "  Version control:               4.7.0\n",
            "\n",
            "  Extra modules:\n",
            "    Location (extra):            D:/a/opencv-python/opencv-python/opencv_contrib/modules\n",
            "    Version control (extra):     4.7.0\n",
            "\n",
            "  Platform:\n",
            "    Timestamp:                   2022-12-29T19:11:10Z\n",
            "    Host:                        Windows 10.0.17763 AMD64\n",
            "    CMake:                       3.24.2\n",
            "    CMake generator:             Visual Studio 14 2015\n",
            "    CMake build tool:            MSBuild.exe\n",
            "    MSVC:                        1900\n",
            "    Configuration:               Debug Release\n",
            "\n",
            "  CPU/HW features:\n",
            "    Baseline:                    SSE SSE2 SSE3\n",
            "      requested:                 SSE3\n",
            "    Dispatched code generation:  SSE4_1 SSE4_2 FP16 AVX AVX2\n",
            "      requested:                 SSE4_1 SSE4_2 AVX FP16 AVX2 AVX512_SKX\n",
            "      SSE4_1 (16 files):         + SSSE3 SSE4_1\n",
            "      SSE4_2 (1 files):          + SSSE3 SSE4_1 POPCNT SSE4_2\n",
            "      FP16 (0 files):            + SSSE3 SSE4_1 POPCNT SSE4_2 FP16 AVX\n",
            "      AVX (4 files):             + SSSE3 SSE4_1 POPCNT SSE4_2 AVX\n",
            "      AVX2 (32 files):           + SSSE3 SSE4_1 POPCNT SSE4_2 FP16 FMA3 AVX AVX2\n",
            "\n",
            "  C/C++:\n",
            "    Built as dynamic libs?:      NO\n",
            "    C++ standard:                11\n",
            "    C++ Compiler:                C:/Program Files (x86)/Microsoft Visual Studio 14.0/VC/bin/x86_amd64/cl.exe  (ver 19.0.24245.0)\n",
            "    C++ flags (Release):         /DWIN32 /D_WINDOWS /W4 /GR  /D _CRT_SECURE_NO_DEPRECATE /D _CRT_NONSTDC_NO_DEPRECATE /D _SCL_SECURE_NO_WARNINGS /Gy /bigobj /Oi  /fp:precise     /EHa /wd4127 /wd4251 /wd4324 /wd4275 /wd4512 /wd4589 /wd4819 /MP  /MT /O2 /Ob2 /DNDEBUG \n",
            "    C++ flags (Debug):           /DWIN32 /D_WINDOWS /W4 /GR  /D _CRT_SECURE_NO_DEPRECATE /D _CRT_NONSTDC_NO_DEPRECATE /D _SCL_SECURE_NO_WARNINGS /Gy /bigobj /Oi  /fp:precise     /EHa /wd4127 /wd4251 /wd4324 /wd4275 /wd4512 /wd4589 /wd4819 /MP  /MTd /Zi /Ob0 /Od /RTC1 \n",
            "    C Compiler:                  C:/Program Files (x86)/Microsoft Visual Studio 14.0/VC/bin/x86_amd64/cl.exe\n",
            "    C flags (Release):           /DWIN32 /D_WINDOWS /W3  /D _CRT_SECURE_NO_DEPRECATE /D _CRT_NONSTDC_NO_DEPRECATE /D _SCL_SECURE_NO_WARNINGS /Gy /bigobj /Oi  /fp:precise     /MP   /MT /O2 /Ob2 /DNDEBUG \n",
            "    C flags (Debug):             /DWIN32 /D_WINDOWS /W3  /D _CRT_SECURE_NO_DEPRECATE /D _CRT_NONSTDC_NO_DEPRECATE /D _SCL_SECURE_NO_WARNINGS /Gy /bigobj /Oi  /fp:precise     /MP /MTd /Zi /Ob0 /Od /RTC1 \n",
            "    Linker flags (Release):      /machine:x64  /NODEFAULTLIB:atlthunk.lib /INCREMENTAL:NO  /NODEFAULTLIB:libcmtd.lib /NODEFAULTLIB:libcpmtd.lib /NODEFAULTLIB:msvcrtd.lib\n",
            "    Linker flags (Debug):        /machine:x64  /NODEFAULTLIB:atlthunk.lib /debug /INCREMENTAL  /NODEFAULTLIB:libcmt.lib /NODEFAULTLIB:libcpmt.lib /NODEFAULTLIB:msvcrt.lib\n",
            "    ccache:                      NO\n",
            "    Precompiled headers:         YES\n",
            "    Extra dependencies:          wsock32 comctl32 gdi32 ole32 setupapi ws2_32\n",
            "    3rdparty dependencies:       libprotobuf ade ittnotify libjpeg-turbo libwebp libpng libtiff libopenjp2 IlmImf zlib quirc ippiw ippicv\n",
            "\n",
            "  OpenCV modules:\n",
            "    To be built:                 aruco barcode bgsegm bioinspired calib3d ccalib core datasets dnn dnn_objdetect dnn_superres dpm face features2d flann fuzzy gapi hfs highgui img_hash imgcodecs imgproc intensity_transform line_descriptor mcc ml objdetect optflow phase_unwrapping photo plot python3 quality rapid reg rgbd saliency shape stereo stitching structured_light superres surface_matching text tracking video videoio videostab wechat_qrcode xfeatures2d ximgproc xobjdetect xphoto\n",
            "    Disabled:                    world\n",
            "    Disabled by dependency:      -\n",
            "    Unavailable:                 alphamat cudaarithm cudabgsegm cudacodec cudafeatures2d cudafilters cudaimgproc cudalegacy cudaobjdetect cudaoptflow cudastereo cudawarping cudev cvv freetype hdf java julia matlab ovis python2 sfm ts viz\n",
            "    Applications:                -\n",
            "    Documentation:               NO\n",
            "    Non-free algorithms:         NO\n",
            "\n",
            "  Windows RT support:            NO\n",
            "\n",
            "  GUI:                           WIN32UI\n",
            "    Win32 UI:                    YES\n",
            "    VTK support:                 NO\n",
            "\n",
            "  Media I/O: \n",
            "    ZLib:                        build (ver 1.2.13)\n",
            "    JPEG:                        build-libjpeg-turbo (ver 2.1.3-62)\n",
            "      SIMD Support Request:      YES\n",
            "      SIMD Support:              NO\n",
            "    WEBP:                        build (ver encoder: 0x020f)\n",
            "    PNG:                         build (ver 1.6.37)\n",
            "    TIFF:                        build (ver 42 - 4.2.0)\n",
            "    JPEG 2000:                   build (ver 2.4.0)\n",
            "    OpenEXR:                     build (ver 2.3.0)\n",
            "    HDR:                         YES\n",
            "    SUNRASTER:                   YES\n",
            "    PXM:                         YES\n",
            "    PFM:                         YES\n",
            "\n",
            "  Video I/O:\n",
            "    DC1394:                      NO\n",
            "    FFMPEG:                      YES (prebuilt binaries)\n",
            "      avcodec:                   YES (58.134.100)\n",
            "      avformat:                  YES (58.76.100)\n",
            "      avutil:                    YES (56.70.100)\n",
            "      swscale:                   YES (5.9.100)\n",
            "      avresample:                YES (4.0.0)\n",
            "    GStreamer:                   NO\n",
            "    DirectShow:                  YES\n",
            "    Media Foundation:            YES\n",
            "      DXVA:                      YES\n",
            "\n",
            "  Parallel framework:            Concurrency\n",
            "\n",
            "  Trace:                         YES (with Intel ITT)\n",
            "\n",
            "  Other third-party libraries:\n",
            "    Intel IPP:                   2020.0.0 Gold [2020.0.0]\n",
            "           at:                   D:/a/opencv-python/opencv-python/_skbuild/win-amd64-3.7/cmake-build/3rdparty/ippicv/ippicv_win/icv\n",
            "    Intel IPP IW:                sources (2020.0.0)\n",
            "              at:                D:/a/opencv-python/opencv-python/_skbuild/win-amd64-3.7/cmake-build/3rdparty/ippicv/ippicv_win/iw\n",
            "    Lapack:                      NO\n",
            "    Eigen:                       NO\n",
            "    Custom HAL:                  NO\n",
            "    Protobuf:                    build (3.19.1)\n",
            "\n",
            "  OpenCL:                        YES (NVD3D11)\n",
            "    Include path:                D:/a/opencv-python/opencv-python/opencv/3rdparty/include/opencl/1.2\n",
            "    Link libraries:              Dynamic load\n",
            "\n",
            "  Python 3:\n",
            "    Interpreter:                 C:/hostedtoolcache/windows/Python/3.7.9/x64/python.exe (ver 3.7.9)\n",
            "    Libraries:                   C:/hostedtoolcache/windows/Python/3.7.9/x64/libs/python37.lib (ver 3.7.9)\n",
            "    numpy:                       C:/hostedtoolcache/windows/Python/3.7.9/x64/lib/site-packages/numpy/core/include (ver 1.17.0)\n",
            "    install path:                python/cv2/python-3\n",
            "\n",
            "  Python (for build):            C:/ProgramData/chocolatey/bin/python2.7.exe\n",
            "\n",
            "  Java:                          \n",
            "    ant:                         NO\n",
            "    JNI:                         C:/hostedtoolcache/windows/Java_Temurin-Hotspot_jdk/8.0.352-8/x64/include C:/hostedtoolcache/windows/Java_Temurin-Hotspot_jdk/8.0.352-8/x64/include/win32 C:/hostedtoolcache/windows/Java_Temurin-Hotspot_jdk/8.0.352-8/x64/include\n",
            "    Java wrappers:               NO\n",
            "    Java tests:                  NO\n",
            "\n",
            "  Install to:                    D:/a/opencv-python/opencv-python/_skbuild/win-amd64-3.7/cmake-install\n",
            "-----------------------------------------------------------------\n",
            "\n",
            "\n"
          ]
        }
      ],
      "source": [
        "import cv2\n",
        "print(cv2.getBuildInformation())  # Look for CUDA support\n"
      ]
    },
    {
      "cell_type": "code",
      "execution_count": 4,
      "metadata": {
        "colab": {
          "base_uri": "https://localhost:8080/"
        },
        "id": "C5-tc1wn8VQf",
        "outputId": "626dbf98-a04c-4ea1-fee8-0d6d6b565b9e"
      },
      "outputs": [
        {
          "name": "stdout",
          "output_type": "stream",
          "text": [
            "Mounted at /content/drive\n"
          ]
        }
      ],
      "source": [
        "from google.colab import drive\n",
        "drive.mount('/content/drive')"
      ]
    },
    {
      "cell_type": "code",
      "execution_count": 6,
      "metadata": {
        "colab": {
          "base_uri": "https://localhost:8080/"
        },
        "id": "q2uoA1zE2P2h",
        "outputId": "54b296c6-e592-4724-ec72-e11840204fd1"
      },
      "outputs": [
        {
          "name": "stdout",
          "output_type": "stream",
          "text": [
            "Rows vertices (input number of black and white boxes in a row minus 1): 8\n",
            "Columns vertices (input number of black and white boxes in a column minus 1): 6\n",
            "Size of a black box mm: 25\n",
            "Using 342 images for calibration...\n",
            "Camera calibration took 260.01 seconds\n",
            "\n",
            "Total reprojection error: 0.045380\n",
            "Total execution time: 277.97 seconds\n"
          ]
        }
      ],
      "source": [
        "import numpy as np\n",
        "import cv2 as cv\n",
        "import glob\n",
        "import pickle\n",
        "import time\n",
        "\n",
        "def get_user_input():\n",
        "    chessboard_rows = int(input(\"Rows vertices (input number of black and white boxes in a row minus 1): \"))\n",
        "    chessboard_cols = int(input(\"Columns vertices (input number of black and white boxes in a column minus 1): \"))\n",
        "    square_size = float(input(\"Size of a black box mm: \"))\n",
        "    return (chessboard_cols, chessboard_rows), square_size\n",
        "\n",
        "def process_image(image_path, chessboardSize, criteria):\n",
        "    \"\"\" Processes a single image: detects and refines chessboard corners using GPU \"\"\"\n",
        "    img = cv.imread(image_path)\n",
        "    if img is None:\n",
        "        return None  # Skip if image is invalid\n",
        "\n",
        "    # Convert image to grayscale using GPU\n",
        "    gray = cv.UMat(cv.cvtColor(img, cv.COLOR_BGR2GRAY))  # Send to GPU\n",
        "\n",
        "    # Resize for faster processing\n",
        "    gray = cv.UMat(cv.resize(gray.get(), (640, 480)))  # Get back to CPU temporarily\n",
        "\n",
        "    ret, corners = cv.findChessboardCorners(gray.get(), chessboardSize, None)\n",
        "    if not ret:\n",
        "        return None  # Skip if no corners found\n",
        "\n",
        "    corners2 = cv.cornerSubPix(gray.get(), corners, (11, 11), (-1, -1), criteria)\n",
        "    return corners2\n",
        "\n",
        "def main():\n",
        "    start_time = time.time()\n",
        "\n",
        "    chessboardSize, square_size = get_user_input()\n",
        "    frameSize = (640, 480)\n",
        "\n",
        "    # Termination criteria for corner detection refinement\n",
        "    criteria = (cv.TERM_CRITERIA_EPS + cv.TERM_CRITERIA_MAX_ITER, 30, 0.001)\n",
        "\n",
        "    # Generate 3D object points\n",
        "    objp = np.zeros((chessboardSize[0] * chessboardSize[1], 3), np.float32)\n",
        "    objp[:, :2] = np.mgrid[0:chessboardSize[0], 0:chessboardSize[1]].T.reshape(-1, 2)\n",
        "    objp *= square_size\n",
        "\n",
        "    objpoints = []\n",
        "    imgpoints = []\n",
        "\n",
        "    images = glob.glob('/content/drive/MyDrive/Freshly_Captured/*.png')\n",
        "\n",
        "    for image_path in images:\n",
        "        result = process_image(image_path, chessboardSize, criteria)\n",
        "        if result is not None:\n",
        "            objpoints.append(objp)\n",
        "            imgpoints.append(result)\n",
        "\n",
        "    if not objpoints or not imgpoints:\n",
        "        print(\"No valid chessboard images found. Exiting.\")\n",
        "        return\n",
        "\n",
        "    print(f\"Using {len(objpoints)} images for calibration...\")\n",
        "\n",
        "    # Compute an initial camera matrix\n",
        "    cameraMatrix = cv.initCameraMatrix2D(objpoints, imgpoints, frameSize)\n",
        "\n",
        "    calib_start = time.time()\n",
        "\n",
        "    # Perform calibration with RATIONAL MODEL (for best accuracy)\n",
        "    ret, cameraMatrix, dist, rvecs, tvecs = cv.calibrateCamera(\n",
        "        objpoints, imgpoints, frameSize, cameraMatrix, None,\n",
        "        flags = cv.CALIB_RATIONAL_MODEL\n",
        "    )\n",
        "\n",
        "    calib_end = time.time()\n",
        "    print(f\"Camera calibration took {calib_end - calib_start:.2f} seconds\")\n",
        "\n",
        "    # Save calibration results\n",
        "    with open(\"/content/drive/MyDrive/calidata/calibration.pkl\", \"wb\") as f:\n",
        "        pickle.dump((cameraMatrix, dist), f)\n",
        "\n",
        "    with open(\"/content/drive/MyDrive/calidata/cameraMatrix.pkl\", \"wb\") as f:\n",
        "        pickle.dump(cameraMatrix, f)\n",
        "\n",
        "    with open(\"/content/drive/MyDrive/calidata/dist.pkl\", \"wb\") as f:\n",
        "        pickle.dump(dist, f)\n",
        "\n",
        "    # Compute reprojection error\n",
        "    mean_error = sum(cv.norm(imgpoints[i], cv.projectPoints(objpoints[i], rvecs[i], tvecs[i], cameraMatrix, dist)[0], cv.NORM_L2) / len(imgpoints[i])\n",
        "                     for i in range(len(objpoints))) / len(objpoints)\n",
        "\n",
        "    print(f\"\\nTotal reprojection error: {mean_error:.6f}\")\n",
        "    print(f\"Total execution time: {time.time() - start_time:.2f} seconds\")\n",
        "\n",
        "if __name__ == \"__main__\":\n",
        "    main()\n"
      ]
    }
  ],
  "metadata": {
    "accelerator": "GPU",
    "colab": {
      "gpuType": "T4",
      "provenance": []
    },
    "kernelspec": {
      "display_name": "Python 3",
      "name": "python3"
    },
    "language_info": {
      "codemirror_mode": {
        "name": "ipython",
        "version": 3
      },
      "file_extension": ".py",
      "mimetype": "text/x-python",
      "name": "python",
      "nbconvert_exporter": "python",
      "pygments_lexer": "ipython3",
      "version": "3.11.9"
    }
  },
  "nbformat": 4,
  "nbformat_minor": 0
}
